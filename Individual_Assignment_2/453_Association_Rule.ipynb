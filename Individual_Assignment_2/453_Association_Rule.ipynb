{
 "cells": [
  {
   "attachments": {},
   "cell_type": "markdown",
   "metadata": {},
   "source": [
    "# **453 Individual Assignment 2 - End-to-End ML Project**\n",
    "## **Recommender System using Association Rules (Predictive Analysis)**\n",
    "### Shaolong (Fred) Xue"
   ]
  },
  {
   "attachments": {},
   "cell_type": "markdown",
   "metadata": {},
   "source": [
    "### **Introduction**"
   ]
  },
  {
   "attachments": {},
   "cell_type": "markdown",
   "metadata": {},
   "source": [
    "The goal of the assignment is to predict items that are more likely to be purchased together. We want to do this using association rule mining. \n",
    "\n",
    "The data we have is from Instacart, provided here: https://www.kaggle.com/competitions/instacart-market-basket-analysis/data. I will only be using one dataset from Instacart for the analysis, \"order_products__prior.csv\".  \n",
    "\n",
    "In this notebook, I will write up codes for two parts: \n",
    "\n",
    "* Part A: Generate frequent itemsets and association rules for a recommender system\n",
    "\n",
    "* Part B: Make two business recommendations for Instacart\n",
    "\n",
    "Before these two parts, I spend some time learning and processing the datasets. "
   ]
  },
  {
   "cell_type": "code",
   "execution_count": 2,
   "metadata": {},
   "outputs": [],
   "source": [
    "import pandas as pd\n",
    "from mlxtend.preprocessing import TransactionEncoder\n",
    "from mlxtend.frequent_patterns import apriori, association_rules"
   ]
  },
  {
   "attachments": {},
   "cell_type": "markdown",
   "metadata": {},
   "source": [
    "### **Data Preprocessing**"
   ]
  },
  {
   "cell_type": "code",
   "execution_count": 3,
   "metadata": {},
   "outputs": [],
   "source": [
    "order_products_train = pd.read_csv(\"order_products__train.csv\")\n",
    "orders = pd.read_csv(\"orders.csv\")\n",
    "products = pd.read_csv(\"products.csv\")"
   ]
  },
  {
   "cell_type": "code",
   "execution_count": 4,
   "metadata": {},
   "outputs": [],
   "source": [
    "# Prepare the list of transactions\n",
    "order_list = order_products_train[['order_id', 'product_id']]"
   ]
  },
  {
   "cell_type": "code",
   "execution_count": 5,
   "metadata": {},
   "outputs": [],
   "source": [
    "# Transpose the list horizontally\n",
    "transactions = list(order_list.groupby('order_id')['product_id'].apply(list))"
   ]
  },
  {
   "cell_type": "code",
   "execution_count": 6,
   "metadata": {},
   "outputs": [],
   "source": [
    "# One-Hot Encode the smaller transaction list\n",
    "te = TransactionEncoder()\n",
    "te_ary = te.fit(transactions).transform(transactions)\n",
    "df = pd.DataFrame(te_ary, columns=te.columns_)"
   ]
  },
  {
   "cell_type": "code",
   "execution_count": 7,
   "metadata": {},
   "outputs": [
    {
     "data": {
      "text/plain": [
       "(131209, 39123)"
      ]
     },
     "execution_count": 7,
     "metadata": {},
     "output_type": "execute_result"
    }
   ],
   "source": [
    "df.shape"
   ]
  },
  {
   "attachments": {},
   "cell_type": "markdown",
   "metadata": {},
   "source": [
    "### **Part A**"
   ]
  },
  {
   "attachments": {},
   "cell_type": "markdown",
   "metadata": {},
   "source": [
    "**Frequent Itemsets**"
   ]
  },
  {
   "attachments": {},
   "cell_type": "markdown",
   "metadata": {},
   "source": [
    "I had to choose low minimum support threshold given the large number of unique items in the data (39,123) and large number of orders (131,209).\n",
    "\n",
    "I tried a few thresholds (0.05, 0.02, 0.015, 0.01, 0.005, etc.). I want to strike a balance between having enough itemsets and also having at least a good amount of itemsets with a length of 2. So that I can formulate some association rules between itemsets of two. I also don't want to have too many itemsets, because it will computationally extensive to generate association rules. \n",
    "\n",
    "Eventualy, I settle at the minimum threshold of 0.005. It generates 364 itemsets, with many length-2 itemsets. "
   ]
  },
  {
   "cell_type": "code",
   "execution_count": 8,
   "metadata": {},
   "outputs": [],
   "source": [
    "# Generate frequent itemsets, min support = 0.015\n",
    "freq_itemsets_015 = apriori(df, min_support=0.015, use_colnames=True)"
   ]
  },
  {
   "cell_type": "code",
   "execution_count": 9,
   "metadata": {},
   "outputs": [],
   "source": [
    "# Generate frequent itemsets, min support = 0.01\n",
    "freq_itemsets_01 = apriori(df, min_support=0.01, use_colnames=True)"
   ]
  },
  {
   "cell_type": "code",
   "execution_count": 10,
   "metadata": {},
   "outputs": [],
   "source": [
    "# Generate frequent itemsets, min support = 0.005\n",
    "freq_itemsets_005 = apriori(df, min_support=0.005, use_colnames=True)"
   ]
  },
  {
   "cell_type": "code",
   "execution_count": 11,
   "metadata": {},
   "outputs": [
    {
     "name": "stdout",
     "output_type": "stream",
     "text": [
      "(364, 2)\n",
      "(120, 2)\n",
      "(71, 2)\n"
     ]
    }
   ],
   "source": [
    "print(freq_itemsets_005.shape)\n",
    "print(freq_itemsets_01.shape)\n",
    "print(freq_itemsets_015.shape)"
   ]
  },
  {
   "attachments": {},
   "cell_type": "markdown",
   "metadata": {},
   "source": [
    "**Association Rules**"
   ]
  },
  {
   "cell_type": "code",
   "execution_count": 12,
   "metadata": {},
   "outputs": [],
   "source": [
    "# Generate association rules\n",
    "rules = association_rules(freq_itemsets_005, metric=\"confidence\", min_threshold=0.3)"
   ]
  },
  {
   "cell_type": "code",
   "execution_count": 13,
   "metadata": {},
   "outputs": [
    {
     "data": {
      "text/html": [
       "<div>\n",
       "<style scoped>\n",
       "    .dataframe tbody tr th:only-of-type {\n",
       "        vertical-align: middle;\n",
       "    }\n",
       "\n",
       "    .dataframe tbody tr th {\n",
       "        vertical-align: top;\n",
       "    }\n",
       "\n",
       "    .dataframe thead th {\n",
       "        text-align: right;\n",
       "    }\n",
       "</style>\n",
       "<table border=\"1\" class=\"dataframe\">\n",
       "  <thead>\n",
       "    <tr style=\"text-align: right;\">\n",
       "      <th></th>\n",
       "      <th>antecedents</th>\n",
       "      <th>consequents</th>\n",
       "      <th>antecedent support</th>\n",
       "      <th>consequent support</th>\n",
       "      <th>support</th>\n",
       "      <th>confidence</th>\n",
       "      <th>lift</th>\n",
       "      <th>leverage</th>\n",
       "      <th>conviction</th>\n",
       "      <th>zhangs_metric</th>\n",
       "    </tr>\n",
       "  </thead>\n",
       "  <tbody>\n",
       "    <tr>\n",
       "      <th>0</th>\n",
       "      <td>(5876)</td>\n",
       "      <td>(13176)</td>\n",
       "      <td>0.026713</td>\n",
       "      <td>0.117980</td>\n",
       "      <td>0.008132</td>\n",
       "      <td>0.304422</td>\n",
       "      <td>2.580293</td>\n",
       "      <td>0.004980</td>\n",
       "      <td>1.268040</td>\n",
       "      <td>0.629257</td>\n",
       "    </tr>\n",
       "    <tr>\n",
       "      <th>1</th>\n",
       "      <td>(8174)</td>\n",
       "      <td>(13176)</td>\n",
       "      <td>0.015090</td>\n",
       "      <td>0.117980</td>\n",
       "      <td>0.005526</td>\n",
       "      <td>0.366162</td>\n",
       "      <td>3.103598</td>\n",
       "      <td>0.003745</td>\n",
       "      <td>1.391554</td>\n",
       "      <td>0.688178</td>\n",
       "    </tr>\n",
       "    <tr>\n",
       "      <th>2</th>\n",
       "      <td>(8277)</td>\n",
       "      <td>(13176)</td>\n",
       "      <td>0.017163</td>\n",
       "      <td>0.117980</td>\n",
       "      <td>0.005236</td>\n",
       "      <td>0.305062</td>\n",
       "      <td>2.585717</td>\n",
       "      <td>0.003211</td>\n",
       "      <td>1.269207</td>\n",
       "      <td>0.623970</td>\n",
       "    </tr>\n",
       "    <tr>\n",
       "      <th>3</th>\n",
       "      <td>(8424)</td>\n",
       "      <td>(24852)</td>\n",
       "      <td>0.022346</td>\n",
       "      <td>0.142719</td>\n",
       "      <td>0.007050</td>\n",
       "      <td>0.315484</td>\n",
       "      <td>2.210530</td>\n",
       "      <td>0.003861</td>\n",
       "      <td>1.252391</td>\n",
       "      <td>0.560137</td>\n",
       "    </tr>\n",
       "    <tr>\n",
       "      <th>4</th>\n",
       "      <td>(9076)</td>\n",
       "      <td>(24852)</td>\n",
       "      <td>0.017705</td>\n",
       "      <td>0.142719</td>\n",
       "      <td>0.005457</td>\n",
       "      <td>0.308222</td>\n",
       "      <td>2.159645</td>\n",
       "      <td>0.002930</td>\n",
       "      <td>1.239243</td>\n",
       "      <td>0.546639</td>\n",
       "    </tr>\n",
       "  </tbody>\n",
       "</table>\n",
       "</div>"
      ],
      "text/plain": [
       "  antecedents consequents  antecedent support  consequent support   support  \\\n",
       "0      (5876)     (13176)            0.026713            0.117980  0.008132   \n",
       "1      (8174)     (13176)            0.015090            0.117980  0.005526   \n",
       "2      (8277)     (13176)            0.017163            0.117980  0.005236   \n",
       "3      (8424)     (24852)            0.022346            0.142719  0.007050   \n",
       "4      (9076)     (24852)            0.017705            0.142719  0.005457   \n",
       "\n",
       "   confidence      lift  leverage  conviction  zhangs_metric  \n",
       "0    0.304422  2.580293  0.004980    1.268040       0.629257  \n",
       "1    0.366162  3.103598  0.003745    1.391554       0.688178  \n",
       "2    0.305062  2.585717  0.003211    1.269207       0.623970  \n",
       "3    0.315484  2.210530  0.003861    1.252391       0.560137  \n",
       "4    0.308222  2.159645  0.002930    1.239243       0.546639  "
      ]
     },
     "execution_count": 13,
     "metadata": {},
     "output_type": "execute_result"
    }
   ],
   "source": [
    "rules.head(5)"
   ]
  },
  {
   "cell_type": "code",
   "execution_count": 14,
   "metadata": {},
   "outputs": [
    {
     "data": {
      "text/html": [
       "<div>\n",
       "<style scoped>\n",
       "    .dataframe tbody tr th:only-of-type {\n",
       "        vertical-align: middle;\n",
       "    }\n",
       "\n",
       "    .dataframe tbody tr th {\n",
       "        vertical-align: top;\n",
       "    }\n",
       "\n",
       "    .dataframe thead th {\n",
       "        text-align: right;\n",
       "    }\n",
       "</style>\n",
       "<table border=\"1\" class=\"dataframe\">\n",
       "  <thead>\n",
       "    <tr style=\"text-align: right;\">\n",
       "      <th></th>\n",
       "      <th>antecedents</th>\n",
       "      <th>antecedent_name</th>\n",
       "      <th>consequents</th>\n",
       "      <th>consequent_name</th>\n",
       "      <th>antecedent support</th>\n",
       "      <th>consequent support</th>\n",
       "      <th>support</th>\n",
       "      <th>confidence</th>\n",
       "      <th>lift</th>\n",
       "      <th>leverage</th>\n",
       "      <th>conviction</th>\n",
       "      <th>zhangs_metric</th>\n",
       "    </tr>\n",
       "  </thead>\n",
       "  <tbody>\n",
       "    <tr>\n",
       "      <th>0</th>\n",
       "      <td>5876</td>\n",
       "      <td>Organic Lemon</td>\n",
       "      <td>13176</td>\n",
       "      <td>Bag of Organic Bananas</td>\n",
       "      <td>0.026713</td>\n",
       "      <td>0.117980</td>\n",
       "      <td>0.008132</td>\n",
       "      <td>0.304422</td>\n",
       "      <td>2.580293</td>\n",
       "      <td>0.004980</td>\n",
       "      <td>1.268040</td>\n",
       "      <td>0.629257</td>\n",
       "    </tr>\n",
       "    <tr>\n",
       "      <th>1</th>\n",
       "      <td>8174</td>\n",
       "      <td>Organic Navel Orange</td>\n",
       "      <td>13176</td>\n",
       "      <td>Bag of Organic Bananas</td>\n",
       "      <td>0.015090</td>\n",
       "      <td>0.117980</td>\n",
       "      <td>0.005526</td>\n",
       "      <td>0.366162</td>\n",
       "      <td>3.103598</td>\n",
       "      <td>0.003745</td>\n",
       "      <td>1.391554</td>\n",
       "      <td>0.688178</td>\n",
       "    </tr>\n",
       "    <tr>\n",
       "      <th>2</th>\n",
       "      <td>8277</td>\n",
       "      <td>Apple Honeycrisp Organic</td>\n",
       "      <td>13176</td>\n",
       "      <td>Bag of Organic Bananas</td>\n",
       "      <td>0.017163</td>\n",
       "      <td>0.117980</td>\n",
       "      <td>0.005236</td>\n",
       "      <td>0.305062</td>\n",
       "      <td>2.585717</td>\n",
       "      <td>0.003211</td>\n",
       "      <td>1.269207</td>\n",
       "      <td>0.623970</td>\n",
       "    </tr>\n",
       "    <tr>\n",
       "      <th>3</th>\n",
       "      <td>8424</td>\n",
       "      <td>Broccoli Crown</td>\n",
       "      <td>24852</td>\n",
       "      <td>Banana</td>\n",
       "      <td>0.022346</td>\n",
       "      <td>0.142719</td>\n",
       "      <td>0.007050</td>\n",
       "      <td>0.315484</td>\n",
       "      <td>2.210530</td>\n",
       "      <td>0.003861</td>\n",
       "      <td>1.252391</td>\n",
       "      <td>0.560137</td>\n",
       "    </tr>\n",
       "    <tr>\n",
       "      <th>4</th>\n",
       "      <td>9076</td>\n",
       "      <td>Blueberries</td>\n",
       "      <td>24852</td>\n",
       "      <td>Banana</td>\n",
       "      <td>0.017705</td>\n",
       "      <td>0.142719</td>\n",
       "      <td>0.005457</td>\n",
       "      <td>0.308222</td>\n",
       "      <td>2.159645</td>\n",
       "      <td>0.002930</td>\n",
       "      <td>1.239243</td>\n",
       "      <td>0.546639</td>\n",
       "    </tr>\n",
       "    <tr>\n",
       "      <th>5</th>\n",
       "      <td>19057</td>\n",
       "      <td>Organic Large Extra Fancy Fuji Apple</td>\n",
       "      <td>13176</td>\n",
       "      <td>Bag of Organic Bananas</td>\n",
       "      <td>0.022034</td>\n",
       "      <td>0.117980</td>\n",
       "      <td>0.007416</td>\n",
       "      <td>0.336562</td>\n",
       "      <td>2.852709</td>\n",
       "      <td>0.004816</td>\n",
       "      <td>1.329469</td>\n",
       "      <td>0.664088</td>\n",
       "    </tr>\n",
       "    <tr>\n",
       "      <th>6</th>\n",
       "      <td>27966</td>\n",
       "      <td>Organic Raspberries</td>\n",
       "      <td>13176</td>\n",
       "      <td>Bag of Organic Bananas</td>\n",
       "      <td>0.042268</td>\n",
       "      <td>0.117980</td>\n",
       "      <td>0.013566</td>\n",
       "      <td>0.320952</td>\n",
       "      <td>2.720400</td>\n",
       "      <td>0.008579</td>\n",
       "      <td>1.298907</td>\n",
       "      <td>0.660318</td>\n",
       "    </tr>\n",
       "    <tr>\n",
       "      <th>7</th>\n",
       "      <td>47209</td>\n",
       "      <td>Organic Hass Avocado</td>\n",
       "      <td>13176</td>\n",
       "      <td>Bag of Organic Bananas</td>\n",
       "      <td>0.055583</td>\n",
       "      <td>0.117980</td>\n",
       "      <td>0.018444</td>\n",
       "      <td>0.331825</td>\n",
       "      <td>2.812560</td>\n",
       "      <td>0.011886</td>\n",
       "      <td>1.320044</td>\n",
       "      <td>0.682381</td>\n",
       "    </tr>\n",
       "    <tr>\n",
       "      <th>8</th>\n",
       "      <td>27966</td>\n",
       "      <td>Organic Raspberries</td>\n",
       "      <td>21137</td>\n",
       "      <td>Organic Strawberries</td>\n",
       "      <td>0.042268</td>\n",
       "      <td>0.083028</td>\n",
       "      <td>0.012728</td>\n",
       "      <td>0.301118</td>\n",
       "      <td>3.626710</td>\n",
       "      <td>0.009218</td>\n",
       "      <td>1.312056</td>\n",
       "      <td>0.756233</td>\n",
       "    </tr>\n",
       "    <tr>\n",
       "      <th>9</th>\n",
       "      <td>28204</td>\n",
       "      <td>Organic Fuji Apple</td>\n",
       "      <td>24852</td>\n",
       "      <td>Banana</td>\n",
       "      <td>0.024823</td>\n",
       "      <td>0.142719</td>\n",
       "      <td>0.009222</td>\n",
       "      <td>0.371508</td>\n",
       "      <td>2.603072</td>\n",
       "      <td>0.005679</td>\n",
       "      <td>1.364028</td>\n",
       "      <td>0.631515</td>\n",
       "    </tr>\n",
       "    <tr>\n",
       "      <th>10</th>\n",
       "      <td>45066</td>\n",
       "      <td>Honeycrisp Apple</td>\n",
       "      <td>24852</td>\n",
       "      <td>Banana</td>\n",
       "      <td>0.027064</td>\n",
       "      <td>0.142719</td>\n",
       "      <td>0.009382</td>\n",
       "      <td>0.346663</td>\n",
       "      <td>2.428991</td>\n",
       "      <td>0.005519</td>\n",
       "      <td>1.312157</td>\n",
       "      <td>0.604671</td>\n",
       "    </tr>\n",
       "    <tr>\n",
       "      <th>11</th>\n",
       "      <td>49683</td>\n",
       "      <td>Cucumber Kirby</td>\n",
       "      <td>24852</td>\n",
       "      <td>Banana</td>\n",
       "      <td>0.018391</td>\n",
       "      <td>0.142719</td>\n",
       "      <td>0.005663</td>\n",
       "      <td>0.307915</td>\n",
       "      <td>2.157496</td>\n",
       "      <td>0.003038</td>\n",
       "      <td>1.238694</td>\n",
       "      <td>0.546551</td>\n",
       "    </tr>\n",
       "    <tr>\n",
       "      <th>12</th>\n",
       "      <td>47209</td>\n",
       "      <td>Organic Hass Avocado</td>\n",
       "      <td>13176</td>\n",
       "      <td>Bag of Organic Bananas</td>\n",
       "      <td>0.011729</td>\n",
       "      <td>0.117980</td>\n",
       "      <td>0.005411</td>\n",
       "      <td>0.461339</td>\n",
       "      <td>3.910321</td>\n",
       "      <td>0.004027</td>\n",
       "      <td>1.637430</td>\n",
       "      <td>0.753100</td>\n",
       "    </tr>\n",
       "  </tbody>\n",
       "</table>\n",
       "</div>"
      ],
      "text/plain": [
       "    antecedents                       antecedent_name  consequents  \\\n",
       "0          5876                         Organic Lemon        13176   \n",
       "1          8174                  Organic Navel Orange        13176   \n",
       "2          8277              Apple Honeycrisp Organic        13176   \n",
       "3          8424                        Broccoli Crown        24852   \n",
       "4          9076                           Blueberries        24852   \n",
       "5         19057  Organic Large Extra Fancy Fuji Apple        13176   \n",
       "6         27966                   Organic Raspberries        13176   \n",
       "7         47209                  Organic Hass Avocado        13176   \n",
       "8         27966                   Organic Raspberries        21137   \n",
       "9         28204                    Organic Fuji Apple        24852   \n",
       "10        45066                      Honeycrisp Apple        24852   \n",
       "11        49683                        Cucumber Kirby        24852   \n",
       "12        47209                  Organic Hass Avocado        13176   \n",
       "\n",
       "           consequent_name  antecedent support  consequent support   support  \\\n",
       "0   Bag of Organic Bananas            0.026713            0.117980  0.008132   \n",
       "1   Bag of Organic Bananas            0.015090            0.117980  0.005526   \n",
       "2   Bag of Organic Bananas            0.017163            0.117980  0.005236   \n",
       "3                   Banana            0.022346            0.142719  0.007050   \n",
       "4                   Banana            0.017705            0.142719  0.005457   \n",
       "5   Bag of Organic Bananas            0.022034            0.117980  0.007416   \n",
       "6   Bag of Organic Bananas            0.042268            0.117980  0.013566   \n",
       "7   Bag of Organic Bananas            0.055583            0.117980  0.018444   \n",
       "8     Organic Strawberries            0.042268            0.083028  0.012728   \n",
       "9                   Banana            0.024823            0.142719  0.009222   \n",
       "10                  Banana            0.027064            0.142719  0.009382   \n",
       "11                  Banana            0.018391            0.142719  0.005663   \n",
       "12  Bag of Organic Bananas            0.011729            0.117980  0.005411   \n",
       "\n",
       "    confidence      lift  leverage  conviction  zhangs_metric  \n",
       "0     0.304422  2.580293  0.004980    1.268040       0.629257  \n",
       "1     0.366162  3.103598  0.003745    1.391554       0.688178  \n",
       "2     0.305062  2.585717  0.003211    1.269207       0.623970  \n",
       "3     0.315484  2.210530  0.003861    1.252391       0.560137  \n",
       "4     0.308222  2.159645  0.002930    1.239243       0.546639  \n",
       "5     0.336562  2.852709  0.004816    1.329469       0.664088  \n",
       "6     0.320952  2.720400  0.008579    1.298907       0.660318  \n",
       "7     0.331825  2.812560  0.011886    1.320044       0.682381  \n",
       "8     0.301118  3.626710  0.009218    1.312056       0.756233  \n",
       "9     0.371508  2.603072  0.005679    1.364028       0.631515  \n",
       "10    0.346663  2.428991  0.005519    1.312157       0.604671  \n",
       "11    0.307915  2.157496  0.003038    1.238694       0.546551  \n",
       "12    0.461339  3.910321  0.004027    1.637430       0.753100  "
      ]
     },
     "execution_count": 14,
     "metadata": {},
     "output_type": "execute_result"
    }
   ],
   "source": [
    "# Integrate with product info to identify the names of the products\n",
    "\n",
    "rules_named = rules.copy()\n",
    "\n",
    "# Convert antecedents and consequents into integer type for merging.\n",
    "rules_named['antecedents'] = rules_named['antecedents'].apply(lambda antecedent: list(antecedent)[0])\n",
    "rules_named['consequents'] = rules_named['consequents'].apply(lambda consequent: list(consequent)[0])\n",
    "\n",
    "# Merge antecedents\n",
    "rules_named = rules_named.merge(products[['product_id', 'product_name']], \n",
    "                                left_on='antecedents', \n",
    "                                right_on='product_id', \n",
    "                                how='left')\n",
    "\n",
    "rules_named.rename(columns={\"product_name\": \"antecedent_name\"}, inplace=True)\n",
    "\n",
    "# Merge consequents\n",
    "rules_named = rules_named.merge(products[['product_id', 'product_name']], \n",
    "                                left_on='consequents', \n",
    "                                right_on='product_id', \n",
    "                                how='left')\n",
    "\n",
    "rules_named.rename(columns={\"product_name\": \"consequent_name\"}, inplace=True)\n",
    "\n",
    "rules_named.drop(['product_id_x', 'product_id_y'], axis=1, inplace=True)\n",
    "\n",
    "cols = ['antecedents', 'antecedent_name', 'consequents', 'consequent_name']  + [col for col in rules_named.columns if col not in ['antecedents', 'antecedent_name', 'consequents', 'consequent_name']]\n",
    "rules_named = rules_named[cols]\n",
    "\n",
    "rules_named"
   ]
  },
  {
   "attachments": {},
   "cell_type": "markdown",
   "metadata": {},
   "source": [
    "### **Part B**"
   ]
  },
  {
   "attachments": {},
   "cell_type": "markdown",
   "metadata": {},
   "source": [
    "Given the association rules, check out how should items be laid out on Instacart's app. How should recommendations be made. etc. Use other datasets like Products.csv to learn more. "
   ]
  },
  {
   "attachments": {},
   "cell_type": "markdown",
   "metadata": {},
   "source": [
    "**Cross Recommend Fresh Produces**\n",
    "\n",
    "From the association rules generated, it's obvious that the overwhelming majority of associated baskets consists of fresh produces. It seems Instacart users tend to buy fruits and fresh vegetables together. For example, \n",
    "\n",
    "* Hass avocados with bananas\n",
    "* Fuji apples and bananas\n",
    "* Naval oranges and bananas\n",
    "\n",
    "My recommendation here is for Instacart to design its items page, shopping cart, and checkout interfaces to make recommendations of other products not in the cart based on things that are in the cart. \n",
    "\n",
    "For example, when a customer views one product, the others frequently bought with it could be highlighted as \"Customers who bought this also bought these items\" similar to the feature on Amazon."
   ]
  },
  {
   "attachments": {},
   "cell_type": "markdown",
   "metadata": {},
   "source": [
    "**Bundling Frequently Bought Together Products**\n",
    "\n",
    "Continuing on the observation that produces are frequently bought together, Instacart could consider creating bundled items that offer a bit of discounts. \n",
    "\n",
    "For exmaple, since customers who buy Organic Lemons also tend to buy Bags of Organic Bananas, Instacart could create a bundle of Organic Lemons and Bags of Organic Bananas and offer a small discount for buying both together. This could potentially make shopping at Instacart more cost-effective and convenient for users. "
   ]
  },
  {
   "attachments": {},
   "cell_type": "markdown",
   "metadata": {},
   "source": [
    "Lastly, from the rules I've defined with minimum support and confidence, it seems fruits and vegetables are quite popularly bought by users. So it might not be a bad idea for Instacart to evaluate its logistic process of sourcing and delivering these products. Because fresh produces have higher perishable rate, this could be potentially cost-reducing for Instacart. "
   ]
  }
 ],
 "metadata": {
  "kernelspec": {
   "display_name": "Python 3",
   "language": "python",
   "name": "python3"
  },
  "language_info": {
   "codemirror_mode": {
    "name": "ipython",
    "version": 3
   },
   "file_extension": ".py",
   "mimetype": "text/x-python",
   "name": "python",
   "nbconvert_exporter": "python",
   "pygments_lexer": "ipython3",
   "version": "3.10.7"
  },
  "orig_nbformat": 4
 },
 "nbformat": 4,
 "nbformat_minor": 2
}
